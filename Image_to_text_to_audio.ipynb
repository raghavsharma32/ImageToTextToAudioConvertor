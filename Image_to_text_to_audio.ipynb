{
  "nbformat": 4,
  "nbformat_minor": 0,
  "metadata": {
    "colab": {
      "provenance": [],
      "authorship_tag": "ABX9TyPtqNgX2iqfjGl/GIwXhkrB",
      "include_colab_link": true
    },
    "kernelspec": {
      "name": "python3",
      "display_name": "Python 3"
    },
    "language_info": {
      "name": "python"
    }
  },
  "cells": [
    {
      "cell_type": "markdown",
      "metadata": {
        "id": "view-in-github",
        "colab_type": "text"
      },
      "source": [
        "<a href=\"https://colab.research.google.com/github/thervs32/ImageToTextToAudioConvertor/blob/main/Image_to_text_to_audio.ipynb\" target=\"_parent\"><img src=\"https://colab.research.google.com/assets/colab-badge.svg\" alt=\"Open In Colab\"/></a>"
      ]
    },
    {
      "cell_type": "code",
      "execution_count": 7,
      "metadata": {
        "colab": {
          "base_uri": "https://localhost:8080/"
        },
        "id": "M9vZR0-6AcEj",
        "outputId": "5a0783a7-e69f-4f4c-d34c-2105f1fab146"
      },
      "outputs": [
        {
          "output_type": "stream",
          "name": "stdout",
          "text": [
            "Reading package lists... Done\n",
            "Building dependency tree... Done\n",
            "Reading state information... Done\n",
            "tesseract-ocr is already the newest version (4.1.1-2.1build1).\n",
            "0 upgraded, 0 newly installed, 0 to remove and 45 not upgraded.\n",
            "Requirement already satisfied: pytesseract in /usr/local/lib/python3.10/dist-packages (0.3.10)\n",
            "Requirement already satisfied: packaging>=21.3 in /usr/local/lib/python3.10/dist-packages (from pytesseract) (24.1)\n",
            "Requirement already satisfied: Pillow>=8.0.0 in /usr/local/lib/python3.10/dist-packages (from pytesseract) (9.0.0)\n",
            "Requirement already satisfied: gTTS in /usr/local/lib/python3.10/dist-packages (2.5.1)\n",
            "Requirement already satisfied: requests<3,>=2.27 in /usr/local/lib/python3.10/dist-packages (from gTTS) (2.31.0)\n",
            "Requirement already satisfied: click<8.2,>=7.1 in /usr/local/lib/python3.10/dist-packages (from gTTS) (8.1.7)\n",
            "Requirement already satisfied: charset-normalizer<4,>=2 in /usr/local/lib/python3.10/dist-packages (from requests<3,>=2.27->gTTS) (3.3.2)\n",
            "Requirement already satisfied: idna<4,>=2.5 in /usr/local/lib/python3.10/dist-packages (from requests<3,>=2.27->gTTS) (3.7)\n",
            "Requirement already satisfied: urllib3<3,>=1.21.1 in /usr/local/lib/python3.10/dist-packages (from requests<3,>=2.27->gTTS) (2.0.7)\n",
            "Requirement already satisfied: certifi>=2017.4.17 in /usr/local/lib/python3.10/dist-packages (from requests<3,>=2.27->gTTS) (2024.6.2)\n",
            "Requirement already satisfied: Pillow==9.0.0 in /usr/local/lib/python3.10/dist-packages (9.0.0)\n"
          ]
        }
      ],
      "source": [
        "!sudo apt install tesseract-ocr\n",
        "!pip install pytesseract\n",
        "!pip install gTTS\n",
        "!pip install Pillow==9.0.0"
      ]
    },
    {
      "cell_type": "code",
      "source": [
        "import pytesseract\n",
        "from PIL import Image\n",
        "import gtts"
      ],
      "metadata": {
        "id": "Sxf5jJw2F2KT"
      },
      "execution_count": 8,
      "outputs": []
    },
    {
      "cell_type": "code",
      "source": [
        "img = Image.open('/content/img.png')\n",
        "print(img)"
      ],
      "metadata": {
        "colab": {
          "base_uri": "https://localhost:8080/"
        },
        "id": "7h1NJJuMGY6P",
        "outputId": "cb2d0a6a-9c76-41e7-d774-5badd2adb0de"
      },
      "execution_count": 9,
      "outputs": [
        {
          "output_type": "stream",
          "name": "stdout",
          "text": [
            "<PIL.PngImagePlugin.PngImageFile image mode=RGBA size=1211x1146 at 0x7DE03F883BE0>\n"
          ]
        }
      ]
    },
    {
      "cell_type": "code",
      "source": [
        "result = pytesseract.image_to_string(img)\n",
        "print(result)"
      ],
      "metadata": {
        "colab": {
          "base_uri": "https://localhost:8080/"
        },
        "id": "O-vU4ydVHDXw",
        "outputId": "3a49ddd3-a699-426f-b9b9-0d929b747437"
      },
      "execution_count": 10,
      "outputs": [
        {
          "output_type": "stream",
          "name": "stdout",
          "text": [
            "Bhimrao Ramji Ambedkar (Bhimrao Ramji Ambédkar; 14 April 1891 — 6\n",
            "December 1956) was an Indian jurist, economist, social reformer and political\n",
            "leader who headed the committee drafting the Constitution of India from the\n",
            "Constituent Assembly debates, served as Law and Justice minister in the first\n",
            "cabinet of Jawaharlal Nehru, and inspired the Dalit Buddhist movement after\n",
            "renouncing Hinduism.\n",
            "\n",
            "After graduating from Elphinstone College, University of Bombay, Ambedkar\n",
            "studied economics at Columbia University and the London School of Economics,\n",
            "receiving doctorates in 1927 and 1923, respectively, and was among a handful of\n",
            "Indian students to have done so at either institution in the 1920s.'\"] He also trained\n",
            "in the law at Gray's Inn, London. In his early career, he was an economist,\n",
            "professor, and lawyer. His later life was marked by his political activities; he\n",
            "became involved in campaigning and negotiations for partition, publishing journals,\n",
            "advocating political rights and social freedom for Dalits, and contributing to the\n",
            "establishment of the state of India. In 1956, he converted to Buddhism, initiating\n",
            "mass conversions of Dalits.!2!\n",
            "\n",
            "In 1990, the Bharat Ratna, India's highest civilian award, was posthumously\n",
            "conferred on Ambedkar. The salutation Jai Bhim (lit. \"Hail Bhim\") used by followers\n",
            "honours him. He is also referred to by the nickname Babasaheb (BAH-ba SAH-\n",
            "hayb), meaning \"Respected Father\".\n",
            "\f\n"
          ]
        }
      ]
    },
    {
      "cell_type": "code",
      "source": [
        "tts = gtts.gTTS(result)\n",
        "tts.save(\"result.mp3\")"
      ],
      "metadata": {
        "id": "1MRqDZmNHONb"
      },
      "execution_count": 11,
      "outputs": []
    }
  ]
}